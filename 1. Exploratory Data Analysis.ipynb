{
 "cells": [
  {
   "cell_type": "markdown",
   "id": "366a284c",
   "metadata": {},
   "source": [
    "# EXPLORATORY DATA ANALYSIS"
   ]
  },
  {
   "cell_type": "markdown",
   "id": "77cc280d",
   "metadata": {},
   "source": [
    "# <font color=green>0. IMPORTS</font>"
   ]
  },
  {
   "cell_type": "code",
   "execution_count": 1,
   "id": "9e7ae622",
   "metadata": {
    "scrolled": true
   },
   "outputs": [],
   "source": [
    "import pandas as pd\n",
    "import matplotlib.pyplot as plt\n",
    "import numpy as np\n",
    "import seaborn as sns\n",
    "import numpy as np\n",
    "import plotly\n",
    "import plotly.graph_objects as go\n",
    "import plotly.express as px\n",
    "import kaleido\n",
    "import dataframe_image as dfi"
   ]
  },
  {
   "cell_type": "code",
   "execution_count": 2,
   "id": "18f2ff51",
   "metadata": {
    "scrolled": true
   },
   "outputs": [],
   "source": [
    "### Importing the csv with object detection from ArtNet \n",
    "df_objects = pd.read_csv(\"smk_annotations_artnet_labels_v2.csv\")"
   ]
  },
  {
   "cell_type": "code",
   "execution_count": 3,
   "id": "52f3a8a7",
   "metadata": {
    "scrolled": true
   },
   "outputs": [
    {
     "data": {
      "text/html": [
       "<div>\n",
       "<style scoped>\n",
       "    .dataframe tbody tr th:only-of-type {\n",
       "        vertical-align: middle;\n",
       "    }\n",
       "\n",
       "    .dataframe tbody tr th {\n",
       "        vertical-align: top;\n",
       "    }\n",
       "\n",
       "    .dataframe thead th {\n",
       "        text-align: right;\n",
       "    }\n",
       "</style>\n",
       "<table border=\"1\" class=\"dataframe\">\n",
       "  <thead>\n",
       "    <tr style=\"text-align: right;\">\n",
       "      <th></th>\n",
       "      <th>filename</th>\n",
       "      <th>confidence</th>\n",
       "      <th>label (numeric)</th>\n",
       "      <th>label (text)</th>\n",
       "      <th>x1</th>\n",
       "      <th>y1</th>\n",
       "      <th>x2</th>\n",
       "      <th>y2</th>\n",
       "    </tr>\n",
       "  </thead>\n",
       "  <tbody>\n",
       "    <tr>\n",
       "      <th>0</th>\n",
       "      <td>KMS8918.png</td>\n",
       "      <td>0.558747</td>\n",
       "      <td>43</td>\n",
       "      <td>window</td>\n",
       "      <td>7.100802</td>\n",
       "      <td>7.360875</td>\n",
       "      <td>1015.96450</td>\n",
       "      <td>713.58620</td>\n",
       "    </tr>\n",
       "    <tr>\n",
       "      <th>1</th>\n",
       "      <td>KMS8918.png</td>\n",
       "      <td>0.551458</td>\n",
       "      <td>54</td>\n",
       "      <td>belt</td>\n",
       "      <td>561.199340</td>\n",
       "      <td>289.908420</td>\n",
       "      <td>600.04944</td>\n",
       "      <td>382.23688</td>\n",
       "    </tr>\n",
       "    <tr>\n",
       "      <th>2</th>\n",
       "      <td>KMS8918.png</td>\n",
       "      <td>0.545488</td>\n",
       "      <td>19</td>\n",
       "      <td>sun</td>\n",
       "      <td>589.730800</td>\n",
       "      <td>168.722050</td>\n",
       "      <td>696.15700</td>\n",
       "      <td>241.35063</td>\n",
       "    </tr>\n",
       "    <tr>\n",
       "      <th>3</th>\n",
       "      <td>KMS8918.png</td>\n",
       "      <td>0.542609</td>\n",
       "      <td>16</td>\n",
       "      <td>lake</td>\n",
       "      <td>7.100802</td>\n",
       "      <td>7.360875</td>\n",
       "      <td>1015.96450</td>\n",
       "      <td>713.58620</td>\n",
       "    </tr>\n",
       "    <tr>\n",
       "      <th>4</th>\n",
       "      <td>KMS8918.png</td>\n",
       "      <td>0.520542</td>\n",
       "      <td>113</td>\n",
       "      <td>man</td>\n",
       "      <td>60.169365</td>\n",
       "      <td>248.738500</td>\n",
       "      <td>861.31380</td>\n",
       "      <td>461.10962</td>\n",
       "    </tr>\n",
       "  </tbody>\n",
       "</table>\n",
       "</div>"
      ],
      "text/plain": [
       "      filename  confidence  label (numeric) label (text)          x1  \\\n",
       "0  KMS8918.png    0.558747               43       window    7.100802   \n",
       "1  KMS8918.png    0.551458               54         belt  561.199340   \n",
       "2  KMS8918.png    0.545488               19          sun  589.730800   \n",
       "3  KMS8918.png    0.542609               16         lake    7.100802   \n",
       "4  KMS8918.png    0.520542              113          man   60.169365   \n",
       "\n",
       "           y1          x2         y2  \n",
       "0    7.360875  1015.96450  713.58620  \n",
       "1  289.908420   600.04944  382.23688  \n",
       "2  168.722050   696.15700  241.35063  \n",
       "3    7.360875  1015.96450  713.58620  \n",
       "4  248.738500   861.31380  461.10962  "
      ]
     },
     "execution_count": 3,
     "metadata": {},
     "output_type": "execute_result"
    }
   ],
   "source": [
    "df_objects.head()"
   ]
  },
  {
   "cell_type": "markdown",
   "id": "ab027f28",
   "metadata": {},
   "source": [
    "# <font color=green>1. ADDING CATEGORIES TO DATAFRAME</font>"
   ]
  },
  {
   "cell_type": "code",
   "execution_count": 4,
   "id": "3981d661",
   "metadata": {
    "scrolled": true
   },
   "outputs": [],
   "source": [
    "# define the Categories dictionary\n",
    "Categories = {'Christianity': [\"Jesus Christ\", \"God\", \"Angel\", \"Virgin Mary\", \"Saint\", \"Devil\", \"Cross\"],\n",
    "              'Occultism': [\"Star\", \"Ghost\", \"Skull\", \"Skeleton\", \"Demon\"],\n",
    "              'Nature': [\"Fire\", \"Sea\", \"Sky\", \"Lake\", \"Cloud\", \"Lightning\", \"Sun\", \"Moon\", \"Tree\", \"Flower\", \"Plant\", \"Mountain\", \"Bush\", \"Rock\"],\n",
    "              'Weaponry': [\"Firearm\", \"Sword\", \"Bow\", \"Arrow\", \"Helmet\", \"Shield\", \"Spear\", \"Armor\", \"Rope\", \"Hammer\"],\n",
    "              'Architecture': [\"House\", \"Bridge\", \"Castle\", \"Mill\", \"Church\", \"Pillar\", \"Window\", \"Door\", \"Staircase\"],\n",
    "              'Clothing': [\"Shoes\", \"Dress\", \"Hat\", \"Mask\", \"Jewellery\", \"Crown\", \"Tie\", \"Umbrella\", \"Belt\", \"Cane\", \"Gloves\", \"Bag\"],\n",
    "              'Vehicles': [\"Car\", \"Boat\", \"Ship\", \"Bicycle\", \"Train\", \"Airplane\", \"Wheel\", \"Carriage\"],\n",
    "              'Furniture': [\"Sofa\", \"Chair\", \"Table\", \"Bed\", \"Bathtub\", \"Easel\"],\n",
    "              'Interior': [\"Lamp\", \"Vase\", \"Book\", \"Mirror\", \"Drapery\", \"Bird cage\", \"Paper\", \"Globe\", \"Cup\", \"Flag\", \"Bottle\", \"Bowl\"],\n",
    "              'Food': [\"Banana\", \"Orange\", \"Melon\", \"Apple\", \"Grapes\", \"Wine\", \"Lobster\", \"Vegetable\", \"Bread\", \"Cheese\", \"Pineapple\"],\n",
    "              'Animals': [\"Bird\", \"Reptile\", \"Fish\", \"Rabbit\", \"Horse\", \"Cat\", \"Donkey\", \"Dog\", \"Chicken\", \"Cow\", \"Mouse\", \"Sheep\", \"Insect\", \"Butterfly\"],\n",
    "              'Human': [\"Child\", \"Baby\", \"Face\", \"Hand\", \"Man\", \"Woman\"],\n",
    "              'Instrument': [\"Harp\", \"Violin\", \"Flute\", \"Piano\", \"Drum\", \"Guitar\"]}"
   ]
  },
  {
   "cell_type": "code",
   "execution_count": 5,
   "id": "2cc35218",
   "metadata": {
    "scrolled": false
   },
   "outputs": [
    {
     "name": "stdout",
     "output_type": "stream",
     "text": [
      "Labels for each category:\n",
      "Christianity     7\n",
      "Occultism        5\n",
      "Nature          14\n",
      "Weaponry        10\n",
      "Architecture     9\n",
      "Clothing        12\n",
      "Vehicles         8\n",
      "Furniture        6\n",
      "Interior        12\n",
      "Food            11\n",
      "Animals         14\n",
      "Human            6\n",
      "Instrument       6\n",
      "dtype: int64 \n",
      "\n",
      "Total number of labels in the dictionary:\n",
      "120\n"
     ]
    }
   ],
   "source": [
    "# Converting the categories dictionary to a pandas Series\n",
    "series = pd.Series(Categories)\n",
    "\n",
    "# Count the number of values for each key\n",
    "value_counts = series.apply(lambda x: len(x))\n",
    "\n",
    "# Print the value count\n",
    "print(\"Labels for each category:\")\n",
    "print(value_counts, \"\\n\")\n",
    "\n",
    "# Sum the total number of values\n",
    "total_sum = series.apply(lambda x: len(x)).sum()\n",
    "\n",
    "# Print the total number of values in the dictionary\n",
    "print(\"Total number of labels in the dictionary:\")\n",
    "print(total_sum)"
   ]
  },
  {
   "cell_type": "code",
   "execution_count": 6,
   "id": "de529ce2",
   "metadata": {
    "scrolled": true
   },
   "outputs": [],
   "source": [
    "# create a dictionary to map object labels to categories\n",
    "label_to_category = {}\n",
    "for category, labels in Categories.items():\n",
    "    for label in labels:\n",
    "        label_to_category[label.lower()] = category\n",
    "\n",
    "# create category column and map object labels to categories\n",
    "df_objects['category'] = df_objects['label (text)'].map(label_to_category)"
   ]
  },
  {
   "cell_type": "markdown",
   "id": "094cbd2b",
   "metadata": {},
   "source": [
    "# <font color=green>2. EXPLORATORY DATA ANALYSIS </font>"
   ]
  },
  {
   "cell_type": "code",
   "execution_count": 7,
   "id": "49789ab5",
   "metadata": {
    "scrolled": false
   },
   "outputs": [
    {
     "name": "stdout",
     "output_type": "stream",
     "text": [
      "Total number of objects found:  109145 \n",
      "\n",
      "Total number of labels that have been detected:  120 \n",
      "\n",
      "Total number of categories represented:  13 \n",
      "\n",
      "Label with the lowest number of detected labels:  5 \n",
      "\n",
      "Label with the highest number of detected labels:  5975 \n",
      "\n",
      "Number of unique paintings in the object detection:  6477 \n",
      "\n"
     ]
    }
   ],
   "source": [
    "### Exploring the shape of the dataframe \n",
    "total_objects = len(df_objects.index) \n",
    "print (\"Total number of objects found: \", total_objects, \"\\n\")\n",
    "\n",
    "### Exploring the total amount of labels that have been detected \n",
    "total_labels = df_objects[\"label (text)\"].nunique()\n",
    "print (\"Total number of labels that have been detected: \", total_labels, \"\\n\")\n",
    "\n",
    "### Exploring the number of categories that are represented in the dataset\n",
    "total_categories = df_objects[\"category\"].nunique()\n",
    "print(\"Total number of categories represented: \", total_categories, \"\\n\")\n",
    "\n",
    "## Label with the lowest number of detected objects \n",
    "min_detected_objects = df_objects['label (text)'].value_counts().min()\n",
    "print(\"Label with the lowest number of detected labels: \", min_detected_objects, \"\\n\")\n",
    "\n",
    "## Label with the highest number of detected objects \n",
    "max_detected_objects = df_objects['label (text)'].value_counts().max()\n",
    "print(\"Label with the highest number of detected labels: \", max_detected_objects, \"\\n\")\n",
    "\n",
    "## Unique paintings in the object detection \n",
    "unqique_paintings = df_objects['filename'].nunique()\n",
    "print(\"Number of unique paintings in the object detection: \", unqique_paintings, \"\\n\")"
   ]
  },
  {
   "cell_type": "code",
   "execution_count": 11,
   "id": "15646941",
   "metadata": {},
   "outputs": [
    {
     "data": {
      "image/png": "[encoded data removed]",
      "text/plain": [
       "<Figure size 640x480 with 1 Axes>"
      ]
     },
     "metadata": {},
     "output_type": "display_data"
    }
   ],
   "source": [
    "# Setting figure size and axes\n",
    "palette_lowest = sns.color_palette('BuGn_r')\n",
    "palette_highest= sns.color_palette('PuBu_r')\n",
    "sns.set_theme(style='white')\n",
    "sns.countplot(y=\"label (text)\",data=df_objects, palette=palette_lowest, order=df_objects['label (text)'].value_counts(ascending=True).iloc[:10].index)\n",
    "#save fig\n",
    "plt.savefig(\"lowest.jpg\")"
   ]
  },
  {
   "cell_type": "code",
   "execution_count": 12,
   "id": "d12b379b",
   "metadata": {},
   "outputs": [
    {
     "data": {
      "image/png": "[encoded data removed]",
      "text/plain": [
       "<Figure size 640x480 with 1 Axes>"
      ]
     },
     "metadata": {},
     "output_type": "display_data"
    }
   ],
   "source": [
    "# Setting figure size and axes\n",
    "palette_lowest = sns.color_palette('BuGn_r')\n",
    "palette_highest= sns.color_palette('PuBu_r')\n",
    "sns.set_theme(style='white')\n",
    "sns.countplot(y=df_objects[\"label (text)\"].values,palette=palette_highest,data=df_objects, order=df_objects['label (text)'].value_counts(ascending=False).iloc[:10].index)\n",
    "#save fig\n",
    "plt.savefig(\"highest.jpg\")"
   ]
  },
  {
   "cell_type": "code",
   "execution_count": 13,
   "id": "dc604575",
   "metadata": {
    "scrolled": true
   },
   "outputs": [
    {
     "data": {
      "image/png": "[encoded data removed]",
      "text/plain": [
       "<Figure size 1500x500 with 2 Axes>"
      ]
     },
     "metadata": {},
     "output_type": "display_data"
    }
   ],
   "source": [
    "# Setting figure size and axes\n",
    "fig, axes = plt.subplots(1, 2, figsize=(15, 5))\n",
    "palette_lowest = sns.color_palette('BuGn_r')\n",
    "palette_highest= sns.color_palette('PuBu_r')\n",
    "sns.set_theme(style='white')\n",
    "\n",
    "# Setting subplots\n",
    "sns.countplot(ax=axes[0],y=\"label (text)\",data=df_objects, palette=palette_lowest, order=df_objects['label (text)'].value_counts(ascending=True).iloc[:10].index)\n",
    "sns.countplot(ax=axes[1],y=df_objects[\"label (text)\"].values,palette=palette_highest,data=df_objects, order=df_objects['label (text)'].value_counts(ascending=False).iloc[:10].index)\n",
    "\n",
    "#sns.barplot(ax=axes[0], x=bulbasaur.index, y=bulbasaur.values)\n",
    "axes[0].set_title(\"10 Labels with lowest number of detected objects\")\n",
    "axes[1].set_title(\"10 Labels with highest number of detected objects\")\n",
    "\n",
    "#save fig\n",
    "plt.savefig(\"highest_and_lowest.svg\")"
   ]
  },
  {
   "cell_type": "code",
   "execution_count": null,
   "id": "7755e442",
   "metadata": {
    "scrolled": true
   },
   "outputs": [],
   "source": [
    "df = df_objects\n",
    "color_sequence=['#090609', '#241a26', '#402e43', '#5b4260', '#77567d', '#8e6696', '#926b99', '#a788ad', '#bca5c1', '#d2c2d5','#e0d5e2', '#e7dfe9', '#f9f7fa']\n",
    "#color_discrete_sequence=[\"orange\", \"red\", \"green\", \"blue\", \"purple\"],\n",
    "fig = px.pie(df_objects, values=df_objects['category'].value_counts(),color= df_objects['category'].unique(), color_discrete_sequence=color_sequence,names= df_objects['category'].unique(), hole = 0.4)\n",
    "fig.update_traces(textposition='outside', textinfo='percent+label')\n",
    "#save fig\n",
    "fig.show()"
   ]
  },
  {
   "cell_type": "markdown",
   "id": "6824ccef",
   "metadata": {},
   "source": [
    "#### <font color='#1260CC'> 2.1 Creating dataframe based on unique labels </font>"
   ]
  },
  {
   "cell_type": "code",
   "execution_count": null,
   "id": "f7c43c7e",
   "metadata": {
    "scrolled": true
   },
   "outputs": [],
   "source": [
    "# Group by 'object_labels' and calculate mean of 'confidence'\n",
    "confidence_mean = df_objects.groupby('label (text)')['confidence'].mean()\n",
    "\n",
    "# Count occurrences of 'object_labels'\n",
    "label_count = df_objects['label (text)'].value_counts()\n",
    "\n",
    "# Create new dataframe with columns: labels, label_count, confidence_mean\n",
    "df_labels = pd.DataFrame({'labels': confidence_mean.index})\n",
    "df_labels['confidence_mean'] = df_labels['labels'].map(confidence_mean)\n",
    "df_labels['label_count'] = df_labels['labels'].map(label_count)\n",
    "\n",
    "# map object labels to categories\n",
    "df_labels['category'] = df_labels['labels'].map(label_to_category)"
   ]
  },
  {
   "cell_type": "code",
   "execution_count": null,
   "id": "667c2aeb",
   "metadata": {
    "scrolled": false
   },
   "outputs": [],
   "source": [
    "## Generate descriptive statistics for the dataframe df_labels\n",
    "df_labels.describe().round(2)"
   ]
  },
  {
   "cell_type": "code",
   "execution_count": null,
   "id": "62a77a04",
   "metadata": {
    "scrolled": false
   },
   "outputs": [],
   "source": [
    "# Printing the mean confidence level, value count and category per label\n",
    "with pd.option_context('display.max_rows', None,\n",
    "                       'display.max_columns', None,\n",
    "                       'display.precision', 3,\n",
    "                       ):\n",
    "    print(df_labels.sort_values(by=['label_count'], ascending=False))"
   ]
  },
  {
   "cell_type": "code",
   "execution_count": null,
   "id": "8a82dea4",
   "metadata": {
    "scrolled": true
   },
   "outputs": [],
   "source": [
    "# plotting correlation heatmap focusing on mean confidence per label and value count per label\n",
    "dataplot = sns.heatmap(df_labels.corr(), cmap=\"YlGnBu\", annot=True)"
   ]
  },
  {
   "cell_type": "code",
   "execution_count": null,
   "id": "401db05f",
   "metadata": {
    "scrolled": true
   },
   "outputs": [],
   "source": [
    "## Plotting the relation between mean_confidence level and the value count per label\n",
    "df = df_labels\n",
    "fig = px.scatter(df, x=\"label_count\", y=\"confidence_mean\", color='labels')\n",
    "fig.show()"
   ]
  },
  {
   "cell_type": "code",
   "execution_count": null,
   "id": "1e846438",
   "metadata": {
    "scrolled": false
   },
   "outputs": [],
   "source": [
    "#Plotting the distraibution og detected objects per label, grouped by category \n",
    "df = df_objects\n",
    "\n",
    "xaxis_title = \"Label count\"\n",
    "yaxis_title = \"Categories\"\n",
    "\n",
    "fig = px.histogram(df, y=\"label (text)\", color=\"category\", text_auto = True,  color_discrete_sequence=px.colors.qualitative.Alphabet, width=1000, height=2000, labels={\n",
    "                     \"label (text)\": \"Labels\",\n",
    "                     \"category\": \"Categories\",\n",
    "                     \"count\": \"Count\"\n",
    "                 },)\n",
    "fig.update_layout(title_text='Object count per label grouped by category', plot_bgcolor=\"white\", xaxis2= {'anchor': 'y', 'overlaying': 'x', 'side': 'top'}, legend={'traceorder':'reversed'})\n",
    "fig.update_xaxes(showline=True, linewidth=2, linecolor='black', gridcolor='lightgrey', gridwidth=0.5, mirror=\"allticks\", side=\"bottom\")\n",
    "fig.update_yaxes(showline=True, linewidth=2, linecolor='black', gridcolor='lightgrey', gridwidth=0.1)\n",
    "fig.update_traces(textposition='outside')\n",
    "fig.show()\n"
   ]
  },
  {
   "cell_type": "markdown",
   "id": "4502d416",
   "metadata": {},
   "source": [
    "#### <font color='#1260CC'> 2.2 Exploring the confidence level"
   ]
  },
  {
   "cell_type": "code",
   "execution_count": null,
   "id": "90bdebff",
   "metadata": {
    "scrolled": false
   },
   "outputs": [],
   "source": [
    "# setting the dimensions of the plot\n",
    "fig, ax = plt.subplots(figsize=(15, 10))\n",
    " \n",
    "palette = sns.color_palette('PuBu_r')\n",
    "sns.set_theme(style='white')\n",
    "\n",
    "# drawing the plot\n",
    "sns.histplot(data=df_objects, x=\"confidence\", color='#EE8D24',  ax=ax, edgecolor=\"#E26310\", linewidth=2)\n",
    "\n",
    "#save fig\n",
    "plt.savefig(\"confidence_level.jpg\")\n",
    "plt.show()"
   ]
  },
  {
   "cell_type": "code",
   "execution_count": null,
   "id": "83827182",
   "metadata": {
    "scrolled": true
   },
   "outputs": [],
   "source": [
    "# define the intervals\n",
    "intervals = [0.5, 0.6, 0.7, 0.8, 0.9]\n",
    "\n",
    "# create a dictionary to store the counts for each interval\n",
    "counts = {}\n",
    "for interval in intervals:\n",
    "    counts[interval] = 0\n",
    "\n",
    "# count the number of rows for each interval\n",
    "for value in df_objects['confidence']:\n",
    "    for interval in intervals:\n",
    "        if value >= interval:\n",
    "            counts[interval] += 1\n",
    "\n",
    "# print the dictionary of counts\n",
    "print(counts)"
   ]
  },
  {
   "cell_type": "code",
   "execution_count": null,
   "id": "f00b4ff9",
   "metadata": {
    "scrolled": true
   },
   "outputs": [],
   "source": [
    "df_filtered_by_condidence = df_objects[df_objects['confidence'] >= 0.6 ]"
   ]
  },
  {
   "cell_type": "code",
   "execution_count": null,
   "id": "b8d09d23",
   "metadata": {
    "scrolled": false
   },
   "outputs": [],
   "source": [
    "## Investigating the distribution of objects with confidence >= 0.6\n",
    "df = df_filtered_by_condidence\n",
    "\n",
    "xaxis_title = \"Label count\"\n",
    "yaxis_title = \"Categories\"\n",
    "\n",
    "fig = px.histogram(df, x=\"category\", color=\"label (text)\", color_discrete_sequence=px.colors.qualitative.Alphabet)\n",
    "fig.update_layout(title_text='Distribution of Labels Grouped by Category [Confidence >= 0.6]', plot_bgcolor=\"white\")\n",
    "fig.update_xaxes(showline=True, linewidth=2, linecolor='black', gridcolor='lightgrey', gridwidth=0.5)\n",
    "fig.update_yaxes(showline=True, linewidth=2, linecolor='black', gridcolor='lightgrey', gridwidth=0.1)\n",
    "fig.show()\n",
    "\n",
    "##fig.write_html(\"/category_graph.html\")\n",
    "#plotly.offline.plot(fig, filename='filtered_by_confidence_category_graph.html') "
   ]
  }
 ],
 "metadata": {
  "kernelspec": {
   "display_name": "Python 3 (ipykernel)",
   "language": "python",
   "name": "python3"
  },
  "language_info": {
   "codemirror_mode": {
    "name": "ipython",
    "version": 3
   },
   "file_extension": ".py",
   "mimetype": "text/x-python",
   "name": "python",
   "nbconvert_exporter": "python",
   "pygments_lexer": "ipython3",
   "version": "3.9.16"
  }
 },
 "nbformat": 4,
 "nbformat_minor": 5
}
