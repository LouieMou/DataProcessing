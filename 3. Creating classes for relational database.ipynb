{
 "cells": [
  {
   "cell_type": "markdown",
   "id": "c9763099",
   "metadata": {},
   "source": [
    "## <font color=green>0. IMPORTS </font>"
   ]
  },
  {
   "cell_type": "code",
   "execution_count": 1,
   "id": "3aacd8f3",
   "metadata": {},
   "outputs": [],
   "source": [
    "import pandas as pd\n",
    "import seaborn as sns\n",
    "import json\n",
    "import uuid\n",
    "import ast"
   ]
  },
  {
   "cell_type": "markdown",
   "id": "0b384072",
   "metadata": {},
   "source": [
    "## <font color=green>1. CREATING DATAFRAME FROM SUBSET</font>"
   ]
  },
  {
   "cell_type": "code",
   "execution_count": 2,
   "id": "d1ef4094",
   "metadata": {},
   "outputs": [
    {
     "data": {
      "text/html": [
       "<div>\n",
       "<style scoped>\n",
       "    .dataframe tbody tr th:only-of-type {\n",
       "        vertical-align: middle;\n",
       "    }\n",
       "\n",
       "    .dataframe tbody tr th {\n",
       "        vertical-align: top;\n",
       "    }\n",
       "\n",
       "    .dataframe thead th {\n",
       "        text-align: right;\n",
       "    }\n",
       "</style>\n",
       "<table border=\"1\" class=\"dataframe\">\n",
       "  <thead>\n",
       "    <tr style=\"text-align: right;\">\n",
       "      <th></th>\n",
       "      <th>filename</th>\n",
       "      <th>confidence</th>\n",
       "      <th>label (numeric)</th>\n",
       "      <th>label (text)</th>\n",
       "      <th>x1</th>\n",
       "      <th>y1</th>\n",
       "      <th>x2</th>\n",
       "      <th>y2</th>\n",
       "      <th>category</th>\n",
       "    </tr>\n",
       "  </thead>\n",
       "  <tbody>\n",
       "    <tr>\n",
       "      <th>0</th>\n",
       "      <td>KMS638.png</td>\n",
       "      <td>0.836013</td>\n",
       "      <td>43</td>\n",
       "      <td>window</td>\n",
       "      <td>37.446743</td>\n",
       "      <td>28.826166</td>\n",
       "      <td>973.81790</td>\n",
       "      <td>691.58057</td>\n",
       "      <td>Architecture</td>\n",
       "    </tr>\n",
       "    <tr>\n",
       "      <th>1</th>\n",
       "      <td>KMS595.png</td>\n",
       "      <td>0.824079</td>\n",
       "      <td>43</td>\n",
       "      <td>window</td>\n",
       "      <td>70.270836</td>\n",
       "      <td>212.377290</td>\n",
       "      <td>160.14937</td>\n",
       "      <td>301.92780</td>\n",
       "      <td>Architecture</td>\n",
       "    </tr>\n",
       "    <tr>\n",
       "      <th>2</th>\n",
       "      <td>KMS3465.png</td>\n",
       "      <td>0.790962</td>\n",
       "      <td>43</td>\n",
       "      <td>window</td>\n",
       "      <td>680.916400</td>\n",
       "      <td>258.064580</td>\n",
       "      <td>774.57170</td>\n",
       "      <td>348.03717</td>\n",
       "      <td>Architecture</td>\n",
       "    </tr>\n",
       "    <tr>\n",
       "      <th>3</th>\n",
       "      <td>KMS830.png</td>\n",
       "      <td>0.783134</td>\n",
       "      <td>43</td>\n",
       "      <td>window</td>\n",
       "      <td>828.954400</td>\n",
       "      <td>1.786047</td>\n",
       "      <td>1021.73303</td>\n",
       "      <td>205.63540</td>\n",
       "      <td>Architecture</td>\n",
       "    </tr>\n",
       "    <tr>\n",
       "      <th>4</th>\n",
       "      <td>KMS1552.png</td>\n",
       "      <td>0.781475</td>\n",
       "      <td>43</td>\n",
       "      <td>window</td>\n",
       "      <td>8.729956</td>\n",
       "      <td>0.591080</td>\n",
       "      <td>1590.54850</td>\n",
       "      <td>912.36970</td>\n",
       "      <td>Architecture</td>\n",
       "    </tr>\n",
       "  </tbody>\n",
       "</table>\n",
       "</div>"
      ],
      "text/plain": [
       "      filename  confidence  label (numeric) label (text)          x1  \\\n",
       "0   KMS638.png    0.836013               43       window   37.446743   \n",
       "1   KMS595.png    0.824079               43       window   70.270836   \n",
       "2  KMS3465.png    0.790962               43       window  680.916400   \n",
       "3   KMS830.png    0.783134               43       window  828.954400   \n",
       "4  KMS1552.png    0.781475               43       window    8.729956   \n",
       "\n",
       "           y1          x2         y2      category  \n",
       "0   28.826166   973.81790  691.58057  Architecture  \n",
       "1  212.377290   160.14937  301.92780  Architecture  \n",
       "2  258.064580   774.57170  348.03717  Architecture  \n",
       "3    1.786047  1021.73303  205.63540  Architecture  \n",
       "4    0.591080  1590.54850  912.36970  Architecture  "
      ]
     },
     "execution_count": 2,
     "metadata": {},
     "output_type": "execute_result"
    }
   ],
   "source": [
    "### Importing the ArtNet object detection CSV as a dataframe\n",
    "df_objects = pd.read_csv(\"df_objects_subset.csv\")\n",
    "df_objects.head()"
   ]
  },
  {
   "cell_type": "code",
   "execution_count": 3,
   "id": "d3eb91e7",
   "metadata": {},
   "outputs": [
    {
     "data": {
      "text/plain": [
       "(10775, 9)"
      ]
     },
     "execution_count": 3,
     "metadata": {},
     "output_type": "execute_result"
    }
   ],
   "source": [
    "df_objects.shape"
   ]
  },
  {
   "cell_type": "markdown",
   "id": "36dddda0",
   "metadata": {},
   "source": [
    "#### <font color=##5A5A5A>1.2 Renaming Columns</font>"
   ]
  },
  {
   "cell_type": "code",
   "execution_count": 4,
   "id": "6f17da31",
   "metadata": {
    "scrolled": true
   },
   "outputs": [],
   "source": [
    "df_objects.rename(columns={\"label (text)\": \"label_text\", \"label (numeric)\": \"label_numeric\", \"category\" : \"category_name\"}, inplace = True)"
   ]
  },
  {
   "cell_type": "markdown",
   "id": "faecd904",
   "metadata": {},
   "source": [
    "#### <font color=##5A5A5A>1.3 Creating a column coords with the combined values of x1, y1, x2, y2 </font>"
   ]
  },
  {
   "cell_type": "code",
   "execution_count": 5,
   "id": "47e3d446",
   "metadata": {},
   "outputs": [],
   "source": [
    "df_objects['coords'] = df_objects.apply(lambda row: [row['x1'], row['y1'], row['x2'], row['y1'], row['x2'], row['y2'], row['x1'], row['y2']], axis=1)"
   ]
  },
  {
   "cell_type": "markdown",
   "id": "cca3c081",
   "metadata": {},
   "source": [
    "#### <font color=##5A5A5A>1.4 Creating painting_id column based on filename</font>"
   ]
  },
  {
   "cell_type": "code",
   "execution_count": 6,
   "id": "bd2e736e",
   "metadata": {},
   "outputs": [],
   "source": [
    "split_function = lambda x: x.split(\".\")[0]"
   ]
  },
  {
   "cell_type": "code",
   "execution_count": 7,
   "id": "f19adcfb",
   "metadata": {
    "scrolled": true
   },
   "outputs": [],
   "source": [
    "df_objects['painting_id'] = df_objects.loc[:, 'filename'].apply(split_function)"
   ]
  },
  {
   "cell_type": "markdown",
   "id": "adb3cc13",
   "metadata": {},
   "source": [
    "#### <font color=##5A5A5A>1.5 Generating unique object_id </font>"
   ]
  },
  {
   "cell_type": "code",
   "execution_count": 8,
   "id": "c16f3145",
   "metadata": {},
   "outputs": [],
   "source": [
    "# generate unique IDs for each row\n",
    "df_objects['object_id'] = [uuid.uuid4().hex for _ in range(len(df_objects))]"
   ]
  },
  {
   "cell_type": "code",
   "execution_count": 9,
   "id": "74b15e7d",
   "metadata": {},
   "outputs": [],
   "source": [
    "df_objects_clean = df_objects.filter(['object_id','label_text', 'coords', 'painting_id', 'category_name'])"
   ]
  },
  {
   "cell_type": "code",
   "execution_count": 10,
   "id": "e543d9d2",
   "metadata": {
    "scrolled": true
   },
   "outputs": [
    {
     "data": {
      "text/html": [
       "<div>\n",
       "<style scoped>\n",
       "    .dataframe tbody tr th:only-of-type {\n",
       "        vertical-align: middle;\n",
       "    }\n",
       "\n",
       "    .dataframe tbody tr th {\n",
       "        vertical-align: top;\n",
       "    }\n",
       "\n",
       "    .dataframe thead th {\n",
       "        text-align: right;\n",
       "    }\n",
       "</style>\n",
       "<table border=\"1\" class=\"dataframe\">\n",
       "  <thead>\n",
       "    <tr style=\"text-align: right;\">\n",
       "      <th></th>\n",
       "      <th>object_id</th>\n",
       "      <th>label_text</th>\n",
       "      <th>coords</th>\n",
       "      <th>painting_id</th>\n",
       "      <th>category_name</th>\n",
       "    </tr>\n",
       "  </thead>\n",
       "  <tbody>\n",
       "    <tr>\n",
       "      <th>0</th>\n",
       "      <td>f4a25112edf843c18c75e27931e7d05c</td>\n",
       "      <td>window</td>\n",
       "      <td>[37.446743, 28.826166, 973.8179, 28.826166, 97...</td>\n",
       "      <td>KMS638</td>\n",
       "      <td>Architecture</td>\n",
       "    </tr>\n",
       "    <tr>\n",
       "      <th>1</th>\n",
       "      <td>20ae0d67566648e4870f965fe6ea31fb</td>\n",
       "      <td>window</td>\n",
       "      <td>[70.270836, 212.37729, 160.14937, 212.37729, 1...</td>\n",
       "      <td>KMS595</td>\n",
       "      <td>Architecture</td>\n",
       "    </tr>\n",
       "    <tr>\n",
       "      <th>2</th>\n",
       "      <td>b1d694472e1c4f32a8d27f0bcf6c88a1</td>\n",
       "      <td>window</td>\n",
       "      <td>[680.9164, 258.06458, 774.5717, 258.06458, 774...</td>\n",
       "      <td>KMS3465</td>\n",
       "      <td>Architecture</td>\n",
       "    </tr>\n",
       "    <tr>\n",
       "      <th>3</th>\n",
       "      <td>ceda21842afb4927a7df85efa09c8d08</td>\n",
       "      <td>window</td>\n",
       "      <td>[828.9544, 1.786047, 1021.73303, 1.786047, 102...</td>\n",
       "      <td>KMS830</td>\n",
       "      <td>Architecture</td>\n",
       "    </tr>\n",
       "    <tr>\n",
       "      <th>4</th>\n",
       "      <td>8a44b020504340978d844abb317375f3</td>\n",
       "      <td>window</td>\n",
       "      <td>[8.729956, 0.5910803, 1590.5485, 0.5910803, 15...</td>\n",
       "      <td>KMS1552</td>\n",
       "      <td>Architecture</td>\n",
       "    </tr>\n",
       "  </tbody>\n",
       "</table>\n",
       "</div>"
      ],
      "text/plain": [
       "                          object_id label_text  \\\n",
       "0  f4a25112edf843c18c75e27931e7d05c     window   \n",
       "1  20ae0d67566648e4870f965fe6ea31fb     window   \n",
       "2  b1d694472e1c4f32a8d27f0bcf6c88a1     window   \n",
       "3  ceda21842afb4927a7df85efa09c8d08     window   \n",
       "4  8a44b020504340978d844abb317375f3     window   \n",
       "\n",
       "                                              coords painting_id category_name  \n",
       "0  [37.446743, 28.826166, 973.8179, 28.826166, 97...      KMS638  Architecture  \n",
       "1  [70.270836, 212.37729, 160.14937, 212.37729, 1...      KMS595  Architecture  \n",
       "2  [680.9164, 258.06458, 774.5717, 258.06458, 774...     KMS3465  Architecture  \n",
       "3  [828.9544, 1.786047, 1021.73303, 1.786047, 102...      KMS830  Architecture  \n",
       "4  [8.729956, 0.5910803, 1590.5485, 0.5910803, 15...     KMS1552  Architecture  "
      ]
     },
     "execution_count": 10,
     "metadata": {},
     "output_type": "execute_result"
    }
   ],
   "source": [
    "df_objects_clean.head()"
   ]
  },
  {
   "cell_type": "code",
   "execution_count": 11,
   "id": "d5b49560",
   "metadata": {},
   "outputs": [
    {
     "data": {
      "text/plain": [
       "3906"
      ]
     },
     "execution_count": 11,
     "metadata": {},
     "output_type": "execute_result"
    }
   ],
   "source": [
    "df_objects_clean['painting_id'].nunique()"
   ]
  },
  {
   "cell_type": "code",
   "execution_count": 12,
   "id": "442c92b4",
   "metadata": {},
   "outputs": [
    {
     "data": {
      "text/plain": [
       "object_id        object\n",
       "label_text       object\n",
       "coords           object\n",
       "painting_id      object\n",
       "category_name    object\n",
       "dtype: object"
      ]
     },
     "execution_count": 12,
     "metadata": {},
     "output_type": "execute_result"
    }
   ],
   "source": [
    "## Checking the datatypes\n",
    "df_objects_clean.dtypes"
   ]
  },
  {
   "cell_type": "markdown",
   "id": "eb272d84",
   "metadata": {},
   "source": [
    "## <font color=green>2. IMPORTING PAINTINGS FROM SMK API AS DATAFRAME </font>"
   ]
  },
  {
   "cell_type": "code",
   "execution_count": 13,
   "id": "1f01a7af",
   "metadata": {},
   "outputs": [
    {
     "data": {
      "text/html": [
       "<div>\n",
       "<style scoped>\n",
       "    .dataframe tbody tr th:only-of-type {\n",
       "        vertical-align: middle;\n",
       "    }\n",
       "\n",
       "    .dataframe tbody tr th {\n",
       "        vertical-align: top;\n",
       "    }\n",
       "\n",
       "    .dataframe thead th {\n",
       "        text-align: right;\n",
       "    }\n",
       "</style>\n",
       "<table border=\"1\" class=\"dataframe\">\n",
       "  <thead>\n",
       "    <tr style=\"text-align: right;\">\n",
       "      <th></th>\n",
       "      <th>id</th>\n",
       "      <th>created</th>\n",
       "      <th>modified</th>\n",
       "      <th>responsible_department</th>\n",
       "      <th>acquisition_date</th>\n",
       "      <th>acquisition_date_precision</th>\n",
       "      <th>dimensions</th>\n",
       "      <th>documentation</th>\n",
       "      <th>object_names</th>\n",
       "      <th>production</th>\n",
       "      <th>...</th>\n",
       "      <th>media_3d</th>\n",
       "      <th>original</th>\n",
       "      <th>media_audio</th>\n",
       "      <th>medium</th>\n",
       "      <th>files_3D</th>\n",
       "      <th>edition</th>\n",
       "      <th>title</th>\n",
       "      <th>author</th>\n",
       "      <th>publication_year</th>\n",
       "      <th>creator</th>\n",
       "    </tr>\n",
       "  </thead>\n",
       "  <tbody>\n",
       "    <tr>\n",
       "      <th>0</th>\n",
       "      <td>1170001003_object</td>\n",
       "      <td>2020-03-21T08:30:01Z</td>\n",
       "      <td>2023-03-17 09:40:56+00:00</td>\n",
       "      <td>Den Kongelige Maleri- og Skulptursamling</td>\n",
       "      <td>2020-01-01T00:00:00Z</td>\n",
       "      <td>2020-12-31</td>\n",
       "      <td>[{'part': 'Brutto', 'type': 'højde', 'unit': '...</td>\n",
       "      <td>NaN</td>\n",
       "      <td>[{'name': 'Maleri'}]</td>\n",
       "      <td>[{'creator': 'Reuter Christiansen, Ursula', 'c...</td>\n",
       "      <td>...</td>\n",
       "      <td>NaN</td>\n",
       "      <td>NaN</td>\n",
       "      <td>NaN</td>\n",
       "      <td>NaN</td>\n",
       "      <td>NaN</td>\n",
       "      <td>NaN</td>\n",
       "      <td>NaN</td>\n",
       "      <td>NaN</td>\n",
       "      <td>NaN</td>\n",
       "      <td>Reuter Christiansen, Ursula</td>\n",
       "    </tr>\n",
       "    <tr>\n",
       "      <th>1</th>\n",
       "      <td>1170001004_object</td>\n",
       "      <td>2020-03-21T08:30:02Z</td>\n",
       "      <td>2023-03-17 09:40:57+00:00</td>\n",
       "      <td>Den Kongelige Maleri- og Skulptursamling</td>\n",
       "      <td>2020-01-01T00:00:00Z</td>\n",
       "      <td>2020-12-31</td>\n",
       "      <td>[{'part': 'Brutto', 'type': 'højde', 'unit': '...</td>\n",
       "      <td>NaN</td>\n",
       "      <td>[{'name': 'Maleri'}]</td>\n",
       "      <td>[{'creator': 'Reuter Christiansen, Ursula', 'c...</td>\n",
       "      <td>...</td>\n",
       "      <td>NaN</td>\n",
       "      <td>NaN</td>\n",
       "      <td>NaN</td>\n",
       "      <td>NaN</td>\n",
       "      <td>NaN</td>\n",
       "      <td>NaN</td>\n",
       "      <td>NaN</td>\n",
       "      <td>NaN</td>\n",
       "      <td>NaN</td>\n",
       "      <td>Reuter Christiansen, Ursula</td>\n",
       "    </tr>\n",
       "  </tbody>\n",
       "</table>\n",
       "<p>2 rows × 84 columns</p>\n",
       "</div>"
      ],
      "text/plain": [
       "                  id               created                   modified  \\\n",
       "0  1170001003_object  2020-03-21T08:30:01Z  2023-03-17 09:40:56+00:00   \n",
       "1  1170001004_object  2020-03-21T08:30:02Z  2023-03-17 09:40:57+00:00   \n",
       "\n",
       "                     responsible_department      acquisition_date  \\\n",
       "0  Den Kongelige Maleri- og Skulptursamling  2020-01-01T00:00:00Z   \n",
       "1  Den Kongelige Maleri- og Skulptursamling  2020-01-01T00:00:00Z   \n",
       "\n",
       "  acquisition_date_precision  \\\n",
       "0                 2020-12-31   \n",
       "1                 2020-12-31   \n",
       "\n",
       "                                          dimensions documentation  \\\n",
       "0  [{'part': 'Brutto', 'type': 'højde', 'unit': '...           NaN   \n",
       "1  [{'part': 'Brutto', 'type': 'højde', 'unit': '...           NaN   \n",
       "\n",
       "           object_names                                         production  \\\n",
       "0  [{'name': 'Maleri'}]  [{'creator': 'Reuter Christiansen, Ursula', 'c...   \n",
       "1  [{'name': 'Maleri'}]  [{'creator': 'Reuter Christiansen, Ursula', 'c...   \n",
       "\n",
       "   ... media_3d original media_audio medium files_3D edition title author  \\\n",
       "0  ...      NaN      NaN         NaN    NaN      NaN     NaN   NaN    NaN   \n",
       "1  ...      NaN      NaN         NaN    NaN      NaN     NaN   NaN    NaN   \n",
       "\n",
       "  publication_year                      creator  \n",
       "0              NaN  Reuter Christiansen, Ursula  \n",
       "1              NaN  Reuter Christiansen, Ursula  \n",
       "\n",
       "[2 rows x 84 columns]"
      ]
     },
     "execution_count": 13,
     "metadata": {},
     "output_type": "execute_result"
    }
   ],
   "source": [
    "df_paintings = pd.read_csv(\"SMK_Malerier_Filtreret.csv\")\n",
    "df_paintings.head(2)"
   ]
  },
  {
   "cell_type": "code",
   "execution_count": 14,
   "id": "5e68e5d2",
   "metadata": {},
   "outputs": [
    {
     "data": {
      "text/plain": [
       "(6570, 84)"
      ]
     },
     "execution_count": 14,
     "metadata": {},
     "output_type": "execute_result"
    }
   ],
   "source": [
    "df_paintings.shape"
   ]
  },
  {
   "cell_type": "markdown",
   "id": "5ccfedd4",
   "metadata": {},
   "source": [
    "#### <font color=##5A5A5A>2.1 Renaming Columns</font>"
   ]
  },
  {
   "cell_type": "code",
   "execution_count": 15,
   "id": "616b9e23",
   "metadata": {},
   "outputs": [],
   "source": [
    "df_paintings.rename(columns={\"object_number\": \"painting_id\"}, inplace = True)"
   ]
  },
  {
   "cell_type": "markdown",
   "id": "7eab2421",
   "metadata": {},
   "source": [
    "#### <font color=##5A5A5A>2.2 Filtering columns in dataframe</font>"
   ]
  },
  {
   "cell_type": "code",
   "execution_count": 16,
   "id": "3c16bd6f",
   "metadata": {},
   "outputs": [],
   "source": [
    "df_paintings_filtered = df_paintings.filter(['painting_id','titles', 'artist', 'techniques', 'publication_year','image_width', 'image_height', 'image_thumbnail', 'colors', 'suggested_bg_color'], axis=1)"
   ]
  },
  {
   "cell_type": "code",
   "execution_count": 17,
   "id": "4035608b",
   "metadata": {},
   "outputs": [],
   "source": [
    "## Inserting an empty string for all NaN values in the publication_year column\n",
    "df_paintings_filtered['publication_year'] = df_paintings_filtered['publication_year'].fillna('')"
   ]
  },
  {
   "cell_type": "markdown",
   "id": "0538b58b",
   "metadata": {},
   "source": [
    "#### <font color=#5A5A5A>2.2.1 Dropping NaN values</font>"
   ]
  },
  {
   "cell_type": "code",
   "execution_count": 18,
   "id": "d39b90b7",
   "metadata": {},
   "outputs": [],
   "source": [
    "df_paintings_clean = df_paintings_filtered.copy()"
   ]
  },
  {
   "cell_type": "code",
   "execution_count": 19,
   "id": "012a8edc",
   "metadata": {},
   "outputs": [],
   "source": [
    "df_paintings_clean.dropna(inplace = True)"
   ]
  },
  {
   "cell_type": "code",
   "execution_count": 20,
   "id": "b8b76126",
   "metadata": {
    "scrolled": true
   },
   "outputs": [
    {
     "data": {
      "text/html": [
       "<div>\n",
       "<style scoped>\n",
       "    .dataframe tbody tr th:only-of-type {\n",
       "        vertical-align: middle;\n",
       "    }\n",
       "\n",
       "    .dataframe tbody tr th {\n",
       "        vertical-align: top;\n",
       "    }\n",
       "\n",
       "    .dataframe thead th {\n",
       "        text-align: right;\n",
       "    }\n",
       "</style>\n",
       "<table border=\"1\" class=\"dataframe\">\n",
       "  <thead>\n",
       "    <tr style=\"text-align: right;\">\n",
       "      <th></th>\n",
       "      <th>painting_id</th>\n",
       "      <th>titles</th>\n",
       "      <th>artist</th>\n",
       "      <th>techniques</th>\n",
       "      <th>publication_year</th>\n",
       "      <th>image_width</th>\n",
       "      <th>image_height</th>\n",
       "      <th>image_thumbnail</th>\n",
       "      <th>colors</th>\n",
       "      <th>suggested_bg_color</th>\n",
       "    </tr>\n",
       "  </thead>\n",
       "  <tbody>\n",
       "    <tr>\n",
       "      <th>6</th>\n",
       "      <td>KMS8914</td>\n",
       "      <td>[{'title': 'Skovinteriør med kroget træ', 'typ...</td>\n",
       "      <td>['Mogens Ballin']</td>\n",
       "      <td>['Tempera på pap']</td>\n",
       "      <td></td>\n",
       "      <td>3780.0</td>\n",
       "      <td>4355.0</td>\n",
       "      <td>https://iip-thumb.smk.dk/iiif/jp2/0z7090448_KM...</td>\n",
       "      <td>['#222222', '#956830', '#444444', '#795025', '...</td>\n",
       "      <td>['#908d41']</td>\n",
       "    </tr>\n",
       "    <tr>\n",
       "      <th>7</th>\n",
       "      <td>KMS8898</td>\n",
       "      <td>[{'title': 'Uden titel', 'type': 'kunstnertite...</td>\n",
       "      <td>['Ib Geertsen']</td>\n",
       "      <td>['Olie på lærred']</td>\n",
       "      <td></td>\n",
       "      <td>7205.0</td>\n",
       "      <td>5601.0</td>\n",
       "      <td>https://iip-thumb.smk.dk/iiif/jp2/pn89db79c_km...</td>\n",
       "      <td>['#cccccc', '#c3d268', '#555555', '#d7eac3', '...</td>\n",
       "      <td>['#77733d']</td>\n",
       "    </tr>\n",
       "  </tbody>\n",
       "</table>\n",
       "</div>"
      ],
      "text/plain": [
       "  painting_id                                             titles  \\\n",
       "6     KMS8914  [{'title': 'Skovinteriør med kroget træ', 'typ...   \n",
       "7     KMS8898  [{'title': 'Uden titel', 'type': 'kunstnertite...   \n",
       "\n",
       "              artist          techniques publication_year  image_width  \\\n",
       "6  ['Mogens Ballin']  ['Tempera på pap']                        3780.0   \n",
       "7    ['Ib Geertsen']  ['Olie på lærred']                        7205.0   \n",
       "\n",
       "   image_height                                    image_thumbnail  \\\n",
       "6        4355.0  https://iip-thumb.smk.dk/iiif/jp2/0z7090448_KM...   \n",
       "7        5601.0  https://iip-thumb.smk.dk/iiif/jp2/pn89db79c_km...   \n",
       "\n",
       "                                              colors suggested_bg_color  \n",
       "6  ['#222222', '#956830', '#444444', '#795025', '...        ['#908d41']  \n",
       "7  ['#cccccc', '#c3d268', '#555555', '#d7eac3', '...        ['#77733d']  "
      ]
     },
     "execution_count": 20,
     "metadata": {},
     "output_type": "execute_result"
    }
   ],
   "source": [
    "df_paintings_clean.head(2)"
   ]
  },
  {
   "cell_type": "markdown",
   "id": "c9c92bc9",
   "metadata": {},
   "source": [
    "#### <font color=##5A5A5A>2.3 Formatting string values </font>"
   ]
  },
  {
   "cell_type": "code",
   "execution_count": 21,
   "id": "a957b119",
   "metadata": {},
   "outputs": [],
   "source": [
    "strip_function_1 = lambda x: x.strip(\"['']\")\n",
    "strip_function_2 = lambda x: x.strip(\"[]c-op. \")"
   ]
  },
  {
   "cell_type": "code",
   "execution_count": 22,
   "id": "814d5f1e",
   "metadata": {},
   "outputs": [],
   "source": [
    "df_paintings_clean.loc[:,'artist'] = df_paintings_clean.loc[:, 'artist'].apply(strip_function_1)\n",
    "df_paintings_clean.loc[:,'techniques'] = df_paintings_clean.loc[:, 'techniques'].apply(strip_function_1)\n",
    "df_paintings_clean.loc[:,'suggested_bg_color'] = df_paintings_clean.loc[:, 'suggested_bg_color'].apply(strip_function_1)\n",
    "df_paintings_clean.loc[:,'publication_year'] = df_paintings_clean.loc[:, 'publication_year'].apply(strip_function_2)"
   ]
  },
  {
   "cell_type": "code",
   "execution_count": 23,
   "id": "b8b6f3b2",
   "metadata": {},
   "outputs": [],
   "source": [
    "# Define a function to extract the 'title' value from the existing column\n",
    "def extract_title(row):\n",
    "    data = ast.literal_eval(row['titles'])\n",
    "    return data[0]['title']\n",
    "\n",
    "# Apply the extract_title function to each row in the DataFrame and store the result in a new column\n",
    "df_paintings_clean['title'] = df_paintings_clean.apply(extract_title, axis=1)"
   ]
  },
  {
   "cell_type": "code",
   "execution_count": 24,
   "id": "c6bd6785",
   "metadata": {},
   "outputs": [
    {
     "data": {
      "text/html": [
       "<div>\n",
       "<style scoped>\n",
       "    .dataframe tbody tr th:only-of-type {\n",
       "        vertical-align: middle;\n",
       "    }\n",
       "\n",
       "    .dataframe tbody tr th {\n",
       "        vertical-align: top;\n",
       "    }\n",
       "\n",
       "    .dataframe thead th {\n",
       "        text-align: right;\n",
       "    }\n",
       "</style>\n",
       "<table border=\"1\" class=\"dataframe\">\n",
       "  <thead>\n",
       "    <tr style=\"text-align: right;\">\n",
       "      <th></th>\n",
       "      <th>painting_id</th>\n",
       "      <th>titles</th>\n",
       "      <th>artist</th>\n",
       "      <th>techniques</th>\n",
       "      <th>publication_year</th>\n",
       "      <th>image_width</th>\n",
       "      <th>image_height</th>\n",
       "      <th>image_thumbnail</th>\n",
       "      <th>colors</th>\n",
       "      <th>suggested_bg_color</th>\n",
       "      <th>title</th>\n",
       "    </tr>\n",
       "  </thead>\n",
       "  <tbody>\n",
       "    <tr>\n",
       "      <th>6</th>\n",
       "      <td>KMS8914</td>\n",
       "      <td>[{'title': 'Skovinteriør med kroget træ', 'typ...</td>\n",
       "      <td>Mogens Ballin</td>\n",
       "      <td>Tempera på pap</td>\n",
       "      <td></td>\n",
       "      <td>3780.0</td>\n",
       "      <td>4355.0</td>\n",
       "      <td>https://iip-thumb.smk.dk/iiif/jp2/0z7090448_KM...</td>\n",
       "      <td>['#222222', '#956830', '#444444', '#795025', '...</td>\n",
       "      <td>#908d41</td>\n",
       "      <td>Skovinteriør med kroget træ</td>\n",
       "    </tr>\n",
       "    <tr>\n",
       "      <th>7</th>\n",
       "      <td>KMS8898</td>\n",
       "      <td>[{'title': 'Uden titel', 'type': 'kunstnertite...</td>\n",
       "      <td>Ib Geertsen</td>\n",
       "      <td>Olie på lærred</td>\n",
       "      <td></td>\n",
       "      <td>7205.0</td>\n",
       "      <td>5601.0</td>\n",
       "      <td>https://iip-thumb.smk.dk/iiif/jp2/pn89db79c_km...</td>\n",
       "      <td>['#cccccc', '#c3d268', '#555555', '#d7eac3', '...</td>\n",
       "      <td>#77733d</td>\n",
       "      <td>Uden titel</td>\n",
       "    </tr>\n",
       "  </tbody>\n",
       "</table>\n",
       "</div>"
      ],
      "text/plain": [
       "  painting_id                                             titles  \\\n",
       "6     KMS8914  [{'title': 'Skovinteriør med kroget træ', 'typ...   \n",
       "7     KMS8898  [{'title': 'Uden titel', 'type': 'kunstnertite...   \n",
       "\n",
       "          artist      techniques publication_year  image_width  image_height  \\\n",
       "6  Mogens Ballin  Tempera på pap                        3780.0        4355.0   \n",
       "7    Ib Geertsen  Olie på lærred                        7205.0        5601.0   \n",
       "\n",
       "                                     image_thumbnail  \\\n",
       "6  https://iip-thumb.smk.dk/iiif/jp2/0z7090448_KM...   \n",
       "7  https://iip-thumb.smk.dk/iiif/jp2/pn89db79c_km...   \n",
       "\n",
       "                                              colors suggested_bg_color  \\\n",
       "6  ['#222222', '#956830', '#444444', '#795025', '...            #908d41   \n",
       "7  ['#cccccc', '#c3d268', '#555555', '#d7eac3', '...            #77733d   \n",
       "\n",
       "                         title  \n",
       "6  Skovinteriør med kroget træ  \n",
       "7                   Uden titel  "
      ]
     },
     "execution_count": 24,
     "metadata": {},
     "output_type": "execute_result"
    }
   ],
   "source": [
    "df_paintings_clean.head(2)"
   ]
  },
  {
   "cell_type": "markdown",
   "id": "d48aca56",
   "metadata": {},
   "source": [
    "## <font color=green>3. Merging the dataframes</font>"
   ]
  },
  {
   "cell_type": "code",
   "execution_count": 25,
   "id": "193e7366",
   "metadata": {},
   "outputs": [],
   "source": [
    "df_merged = pd.merge(df_objects_clean, df_paintings_clean, on='painting_id')"
   ]
  },
  {
   "cell_type": "code",
   "execution_count": 26,
   "id": "bf9299fb",
   "metadata": {},
   "outputs": [],
   "source": [
    "df_merged_clean = df_merged.drop_duplicates(subset=['object_id'], keep='last')"
   ]
  },
  {
   "cell_type": "code",
   "execution_count": 27,
   "id": "b9975d1d",
   "metadata": {},
   "outputs": [
    {
     "data": {
      "text/plain": [
       "0"
      ]
     },
     "execution_count": 27,
     "metadata": {},
     "output_type": "execute_result"
    }
   ],
   "source": [
    "# checking for duplicate object_id values \n",
    "df_merged_clean.duplicated(subset=['object_id']).sum()"
   ]
  },
  {
   "cell_type": "code",
   "execution_count": 28,
   "id": "09998981",
   "metadata": {},
   "outputs": [
    {
     "data": {
      "text/html": [
       "<div>\n",
       "<style scoped>\n",
       "    .dataframe tbody tr th:only-of-type {\n",
       "        vertical-align: middle;\n",
       "    }\n",
       "\n",
       "    .dataframe tbody tr th {\n",
       "        vertical-align: top;\n",
       "    }\n",
       "\n",
       "    .dataframe thead th {\n",
       "        text-align: right;\n",
       "    }\n",
       "</style>\n",
       "<table border=\"1\" class=\"dataframe\">\n",
       "  <thead>\n",
       "    <tr style=\"text-align: right;\">\n",
       "      <th></th>\n",
       "      <th>object_id</th>\n",
       "      <th>label_text</th>\n",
       "      <th>coords</th>\n",
       "      <th>painting_id</th>\n",
       "      <th>category_name</th>\n",
       "      <th>titles</th>\n",
       "      <th>artist</th>\n",
       "      <th>techniques</th>\n",
       "      <th>publication_year</th>\n",
       "      <th>image_width</th>\n",
       "      <th>image_height</th>\n",
       "      <th>image_thumbnail</th>\n",
       "      <th>colors</th>\n",
       "      <th>suggested_bg_color</th>\n",
       "      <th>title</th>\n",
       "    </tr>\n",
       "  </thead>\n",
       "  <tbody>\n",
       "    <tr>\n",
       "      <th>0</th>\n",
       "      <td>f4a25112edf843c18c75e27931e7d05c</td>\n",
       "      <td>window</td>\n",
       "      <td>[37.446743, 28.826166, 973.8179, 28.826166, 97...</td>\n",
       "      <td>KMS638</td>\n",
       "      <td>Architecture</td>\n",
       "      <td>[{'title': 'Slagbillede', 'type': 'museumstite...</td>\n",
       "      <td>Jacob Weyer</td>\n",
       "      <td>Olie på træ</td>\n",
       "      <td></td>\n",
       "      <td>4833.0</td>\n",
       "      <td>3407.0</td>\n",
       "      <td>https://iip-thumb.smk.dk/iiif/jp2/1r66j221x_KM...</td>\n",
       "      <td>['#dddddd', '#444444', '#555555', '#333333', '...</td>\n",
       "      <td>#888888</td>\n",
       "      <td>Slagbillede</td>\n",
       "    </tr>\n",
       "    <tr>\n",
       "      <th>1</th>\n",
       "      <td>2656fb4cc9124c76a18ff5cdc16d0333</td>\n",
       "      <td>lake</td>\n",
       "      <td>[93.13501, 403.28055, 966.51013, 403.28055, 96...</td>\n",
       "      <td>KMS638</td>\n",
       "      <td>Nature</td>\n",
       "      <td>[{'title': 'Slagbillede', 'type': 'museumstite...</td>\n",
       "      <td>Jacob Weyer</td>\n",
       "      <td>Olie på træ</td>\n",
       "      <td></td>\n",
       "      <td>4833.0</td>\n",
       "      <td>3407.0</td>\n",
       "      <td>https://iip-thumb.smk.dk/iiif/jp2/1r66j221x_KM...</td>\n",
       "      <td>['#dddddd', '#444444', '#555555', '#333333', '...</td>\n",
       "      <td>#888888</td>\n",
       "      <td>Slagbillede</td>\n",
       "    </tr>\n",
       "  </tbody>\n",
       "</table>\n",
       "</div>"
      ],
      "text/plain": [
       "                          object_id label_text  \\\n",
       "0  f4a25112edf843c18c75e27931e7d05c     window   \n",
       "1  2656fb4cc9124c76a18ff5cdc16d0333       lake   \n",
       "\n",
       "                                              coords painting_id  \\\n",
       "0  [37.446743, 28.826166, 973.8179, 28.826166, 97...      KMS638   \n",
       "1  [93.13501, 403.28055, 966.51013, 403.28055, 96...      KMS638   \n",
       "\n",
       "  category_name                                             titles  \\\n",
       "0  Architecture  [{'title': 'Slagbillede', 'type': 'museumstite...   \n",
       "1        Nature  [{'title': 'Slagbillede', 'type': 'museumstite...   \n",
       "\n",
       "        artist   techniques publication_year  image_width  image_height  \\\n",
       "0  Jacob Weyer  Olie på træ                        4833.0        3407.0   \n",
       "1  Jacob Weyer  Olie på træ                        4833.0        3407.0   \n",
       "\n",
       "                                     image_thumbnail  \\\n",
       "0  https://iip-thumb.smk.dk/iiif/jp2/1r66j221x_KM...   \n",
       "1  https://iip-thumb.smk.dk/iiif/jp2/1r66j221x_KM...   \n",
       "\n",
       "                                              colors suggested_bg_color  \\\n",
       "0  ['#dddddd', '#444444', '#555555', '#333333', '...            #888888   \n",
       "1  ['#dddddd', '#444444', '#555555', '#333333', '...            #888888   \n",
       "\n",
       "         title  \n",
       "0  Slagbillede  \n",
       "1  Slagbillede  "
      ]
     },
     "execution_count": 28,
     "metadata": {},
     "output_type": "execute_result"
    }
   ],
   "source": [
    "df_merged_clean.head(2)"
   ]
  },
  {
   "cell_type": "code",
   "execution_count": 29,
   "id": "044af794",
   "metadata": {},
   "outputs": [
    {
     "data": {
      "text/plain": [
       "(10142, 15)"
      ]
     },
     "execution_count": 29,
     "metadata": {},
     "output_type": "execute_result"
    }
   ],
   "source": [
    "df_merged_clean.shape"
   ]
  },
  {
   "cell_type": "markdown",
   "id": "e29a74e9",
   "metadata": {},
   "source": [
    "## <font color=green>4. Create Category Dataframe</font>"
   ]
  },
  {
   "cell_type": "code",
   "execution_count": 30,
   "id": "a89885e0",
   "metadata": {},
   "outputs": [],
   "source": [
    "# define the Categories dictionary\n",
    "category_dict = {'Christianity': [\"Jesus Christ\", \"God\", \"Angel\", \"Virgin Mary\", \"Saint\", \"Devil\", \"Cross\"],\n",
    "              'Occultism': [\"Star\", \"Ghost\", \"Skull\", \"Skeleton\", \"Demon\"],\n",
    "              'Nature': [\"Fire\", \"Sea\", \"Sky\", \"Lake\", \"Cloud\", \"Lightning\", \"Sun\", \"Moon\", \"Tree\", \"Flower\", \"Plant\", \"Mountain\", \"Bush\", \"Rock\"],\n",
    "              'Weaponry': [\"Firearm\", \"Sword\", \"Bow\", \"Arrow\", \"Helmet\", \"Shield\", \"Spear\", \"Armor\", \"Rope\", \"Hammer\"],\n",
    "              'Architecture': [\"House\", \"Bridge\", \"Castle\", \"Mill\", \"Church\", \"Pillar\", \"Window\", \"Door\", \"Staircase\"],\n",
    "              'Clothing': [\"Shoes\", \"Dress\", \"Hat\", \"Mask\", \"Jewellery\", \"Crown\", \"Tie\", \"Umbrella\", \"Belt\", \"Cane\", \"Gloves\", \"Bag\"],\n",
    "              'Vehicles': [\"Car\", \"Boat\", \"Ship\", \"Bicycle\", \"Train\", \"Airplane\", \"Wheel\", \"Carriage\"],\n",
    "              'Furniture': [\"Sofa\", \"Chair\", \"Table\", \"Bed\", \"Bathtub\", \"Easel\"],\n",
    "              'Interior': [\"Lamp\", \"Vase\", \"Book\", \"Mirror\", \"Drapery\", \"Bird cage\", \"Paper\", \"Globe\", \"Cup\", \"Flag\", \"Bottle\", \"Bowl\"],\n",
    "              'Food': [\"Banana\", \"Orange\", \"Melon\", \"Apple\", \"Grapes\", \"Wine\", \"Lobster\", \"Vegetable\", \"Bread\", \"Cheese\", \"Pineapple\"],\n",
    "              'Animals': [\"Bird\", \"Reptile\", \"Fish\", \"Rabbit\", \"Horse\", \"Cat\", \"Donkey\", \"Dog\", \"Chicken\", \"Cow\", \"Mouse\", \"Sheep\", \"Insect\", \"Butterfly\"],\n",
    "              'Human': [\"Child\", \"Baby\", \"Face\", \"Hand\", \"Man\", \"Woman\"],\n",
    "              'Instrument': [\"Harp\", \"Violin\", \"Flute\", \"Piano\", \"Drum\", \"Guitar\"]}"
   ]
  },
  {
   "cell_type": "code",
   "execution_count": 31,
   "id": "76fdf083",
   "metadata": {
    "scrolled": true
   },
   "outputs": [],
   "source": [
    "# Create empty lists for category_name and object_labels\n",
    "category_name_list = []\n",
    "object_labels_list = []\n",
    "\n",
    "# Iterate over the key-value pairs in the dictionary and append to the lists\n",
    "for category_name, object_labels in category_dict.items():\n",
    "    category_name_list.append(category_name)\n",
    "    object_labels_list.append(object_labels)\n",
    "\n",
    "# Create a Pandas dataframe from the lists\n",
    "df_categories = pd.DataFrame({'category_name': category_name_list, 'object_labels': object_labels_list})"
   ]
  },
  {
   "cell_type": "code",
   "execution_count": 32,
   "id": "d261a247",
   "metadata": {},
   "outputs": [
    {
     "data": {
      "text/html": [
       "<div>\n",
       "<style scoped>\n",
       "    .dataframe tbody tr th:only-of-type {\n",
       "        vertical-align: middle;\n",
       "    }\n",
       "\n",
       "    .dataframe tbody tr th {\n",
       "        vertical-align: top;\n",
       "    }\n",
       "\n",
       "    .dataframe thead th {\n",
       "        text-align: right;\n",
       "    }\n",
       "</style>\n",
       "<table border=\"1\" class=\"dataframe\">\n",
       "  <thead>\n",
       "    <tr style=\"text-align: right;\">\n",
       "      <th></th>\n",
       "      <th>category_name</th>\n",
       "      <th>object_labels</th>\n",
       "    </tr>\n",
       "  </thead>\n",
       "  <tbody>\n",
       "    <tr>\n",
       "      <th>0</th>\n",
       "      <td>Christianity</td>\n",
       "      <td>[Jesus Christ, God, Angel, Virgin Mary, Saint,...</td>\n",
       "    </tr>\n",
       "    <tr>\n",
       "      <th>1</th>\n",
       "      <td>Occultism</td>\n",
       "      <td>[Star, Ghost, Skull, Skeleton, Demon]</td>\n",
       "    </tr>\n",
       "    <tr>\n",
       "      <th>2</th>\n",
       "      <td>Nature</td>\n",
       "      <td>[Fire, Sea, Sky, Lake, Cloud, Lightning, Sun, ...</td>\n",
       "    </tr>\n",
       "    <tr>\n",
       "      <th>3</th>\n",
       "      <td>Weaponry</td>\n",
       "      <td>[Firearm, Sword, Bow, Arrow, Helmet, Shield, S...</td>\n",
       "    </tr>\n",
       "    <tr>\n",
       "      <th>4</th>\n",
       "      <td>Architecture</td>\n",
       "      <td>[House, Bridge, Castle, Mill, Church, Pillar, ...</td>\n",
       "    </tr>\n",
       "    <tr>\n",
       "      <th>5</th>\n",
       "      <td>Clothing</td>\n",
       "      <td>[Shoes, Dress, Hat, Mask, Jewellery, Crown, Ti...</td>\n",
       "    </tr>\n",
       "    <tr>\n",
       "      <th>6</th>\n",
       "      <td>Vehicles</td>\n",
       "      <td>[Car, Boat, Ship, Bicycle, Train, Airplane, Wh...</td>\n",
       "    </tr>\n",
       "    <tr>\n",
       "      <th>7</th>\n",
       "      <td>Furniture</td>\n",
       "      <td>[Sofa, Chair, Table, Bed, Bathtub, Easel]</td>\n",
       "    </tr>\n",
       "    <tr>\n",
       "      <th>8</th>\n",
       "      <td>Interior</td>\n",
       "      <td>[Lamp, Vase, Book, Mirror, Drapery, Bird cage,...</td>\n",
       "    </tr>\n",
       "    <tr>\n",
       "      <th>9</th>\n",
       "      <td>Food</td>\n",
       "      <td>[Banana, Orange, Melon, Apple, Grapes, Wine, L...</td>\n",
       "    </tr>\n",
       "    <tr>\n",
       "      <th>10</th>\n",
       "      <td>Animals</td>\n",
       "      <td>[Bird, Reptile, Fish, Rabbit, Horse, Cat, Donk...</td>\n",
       "    </tr>\n",
       "    <tr>\n",
       "      <th>11</th>\n",
       "      <td>Human</td>\n",
       "      <td>[Child, Baby, Face, Hand, Man, Woman]</td>\n",
       "    </tr>\n",
       "    <tr>\n",
       "      <th>12</th>\n",
       "      <td>Instrument</td>\n",
       "      <td>[Harp, Violin, Flute, Piano, Drum, Guitar]</td>\n",
       "    </tr>\n",
       "  </tbody>\n",
       "</table>\n",
       "</div>"
      ],
      "text/plain": [
       "   category_name                                      object_labels\n",
       "0   Christianity  [Jesus Christ, God, Angel, Virgin Mary, Saint,...\n",
       "1      Occultism              [Star, Ghost, Skull, Skeleton, Demon]\n",
       "2         Nature  [Fire, Sea, Sky, Lake, Cloud, Lightning, Sun, ...\n",
       "3       Weaponry  [Firearm, Sword, Bow, Arrow, Helmet, Shield, S...\n",
       "4   Architecture  [House, Bridge, Castle, Mill, Church, Pillar, ...\n",
       "5       Clothing  [Shoes, Dress, Hat, Mask, Jewellery, Crown, Ti...\n",
       "6       Vehicles  [Car, Boat, Ship, Bicycle, Train, Airplane, Wh...\n",
       "7      Furniture          [Sofa, Chair, Table, Bed, Bathtub, Easel]\n",
       "8       Interior  [Lamp, Vase, Book, Mirror, Drapery, Bird cage,...\n",
       "9           Food  [Banana, Orange, Melon, Apple, Grapes, Wine, L...\n",
       "10       Animals  [Bird, Reptile, Fish, Rabbit, Horse, Cat, Donk...\n",
       "11         Human              [Child, Baby, Face, Hand, Man, Woman]\n",
       "12    Instrument         [Harp, Violin, Flute, Piano, Drum, Guitar]"
      ]
     },
     "execution_count": 32,
     "metadata": {},
     "output_type": "execute_result"
    }
   ],
   "source": [
    "df_categories"
   ]
  },
  {
   "cell_type": "markdown",
   "id": "7aa65c88",
   "metadata": {},
   "source": [
    "## <font color=green>5. Splitting the merged dataframe into an Object and an Painting dataframe</font>"
   ]
  },
  {
   "cell_type": "code",
   "execution_count": 33,
   "id": "524264c1",
   "metadata": {},
   "outputs": [],
   "source": [
    "df_objects_final = df_merged_clean.filter(['object_id','label_text', 'coords', 'painting_id', 'image_thumbnail', 'category_name' ], axis=1)"
   ]
  },
  {
   "cell_type": "code",
   "execution_count": 34,
   "id": "af458dc5",
   "metadata": {},
   "outputs": [
    {
     "data": {
      "text/plain": [
       "(10142, 6)"
      ]
     },
     "execution_count": 34,
     "metadata": {},
     "output_type": "execute_result"
    }
   ],
   "source": [
    "df_objects_final.shape"
   ]
  },
  {
   "cell_type": "code",
   "execution_count": 35,
   "id": "9ae09458",
   "metadata": {},
   "outputs": [],
   "source": [
    "df_paintings_final = df_merged_clean.filter(['painting_id', 'artist', 'title', 'techniques',  'publication_year','image_width', 'image_height', 'image_thumbnail', 'colors', 'suggested_bg_color'], axis=1)"
   ]
  },
  {
   "cell_type": "code",
   "execution_count": 36,
   "id": "0443ab7f",
   "metadata": {},
   "outputs": [],
   "source": [
    "df_paintings_final = df_paintings_final.drop_duplicates(subset='painting_id', keep=\"first\")"
   ]
  },
  {
   "cell_type": "code",
   "execution_count": 37,
   "id": "df0dc898",
   "metadata": {},
   "outputs": [
    {
     "data": {
      "text/plain": [
       "(3654, 10)"
      ]
     },
     "execution_count": 37,
     "metadata": {},
     "output_type": "execute_result"
    }
   ],
   "source": [
    "df_paintings_final.shape"
   ]
  },
  {
   "cell_type": "markdown",
   "id": "5f13a695",
   "metadata": {},
   "source": [
    "#### <font color=##5A5A5A>5.1 Creating the column object_labels for the painting dataframe</font>\n",
    "These column is created for the painting class, to store an array of object labels that are found on this painting"
   ]
  },
  {
   "cell_type": "code",
   "execution_count": 38,
   "id": "74f0c175",
   "metadata": {},
   "outputs": [],
   "source": [
    "# Create dictionary mapping painting_id to label_text array\n",
    "painting_to_object_dict_labels = {}\n",
    "for painting_id in df_paintings_final['painting_id']:\n",
    "    object_id_array = df_objects_final.loc[df_objects_final['painting_id'] == painting_id, 'label_text'].values\n",
    "    painting_to_object_dict_labels[painting_id] = object_id_array\n",
    "\n",
    "    \n",
    "df_paintings_final['object_labels'] = df_paintings_final['painting_id'].map(painting_to_object_dict_labels)"
   ]
  },
  {
   "cell_type": "code",
   "execution_count": 39,
   "id": "d8e21a58",
   "metadata": {},
   "outputs": [
    {
     "data": {
      "text/html": [
       "<div>\n",
       "<style scoped>\n",
       "    .dataframe tbody tr th:only-of-type {\n",
       "        vertical-align: middle;\n",
       "    }\n",
       "\n",
       "    .dataframe tbody tr th {\n",
       "        vertical-align: top;\n",
       "    }\n",
       "\n",
       "    .dataframe thead th {\n",
       "        text-align: right;\n",
       "    }\n",
       "</style>\n",
       "<table border=\"1\" class=\"dataframe\">\n",
       "  <thead>\n",
       "    <tr style=\"text-align: right;\">\n",
       "      <th></th>\n",
       "      <th>painting_id</th>\n",
       "      <th>artist</th>\n",
       "      <th>title</th>\n",
       "      <th>techniques</th>\n",
       "      <th>publication_year</th>\n",
       "      <th>image_width</th>\n",
       "      <th>image_height</th>\n",
       "      <th>image_thumbnail</th>\n",
       "      <th>colors</th>\n",
       "      <th>suggested_bg_color</th>\n",
       "      <th>object_labels</th>\n",
       "    </tr>\n",
       "  </thead>\n",
       "  <tbody>\n",
       "    <tr>\n",
       "      <th>0</th>\n",
       "      <td>KMS638</td>\n",
       "      <td>Jacob Weyer</td>\n",
       "      <td>Slagbillede</td>\n",
       "      <td>Olie på træ</td>\n",
       "      <td></td>\n",
       "      <td>4833.0</td>\n",
       "      <td>3407.0</td>\n",
       "      <td>https://iip-thumb.smk.dk/iiif/jp2/1r66j221x_KM...</td>\n",
       "      <td>['#dddddd', '#444444', '#555555', '#333333', '...</td>\n",
       "      <td>#888888</td>\n",
       "      <td>[window, lake, flag, horse, donkey, sky, devil...</td>\n",
       "    </tr>\n",
       "    <tr>\n",
       "      <th>14</th>\n",
       "      <td>KMS595</td>\n",
       "      <td>Nicolai Abildgaard</td>\n",
       "      <td>En potuaner, hvis reformforslag er billiget, b...</td>\n",
       "      <td>Olie på lærred</td>\n",
       "      <td>1999</td>\n",
       "      <td>3131.0</td>\n",
       "      <td>3738.0</td>\n",
       "      <td>https://iip-thumb.smk.dk/iiif/jp2/kk91fp68v_KM...</td>\n",
       "      <td>['#222222', '#3a351f', '#908d41', '#382510', '...</td>\n",
       "      <td>#908d41</td>\n",
       "      <td>[window, spear, spear, sword, demon]</td>\n",
       "    </tr>\n",
       "  </tbody>\n",
       "</table>\n",
       "</div>"
      ],
      "text/plain": [
       "   painting_id              artist  \\\n",
       "0       KMS638         Jacob Weyer   \n",
       "14      KMS595  Nicolai Abildgaard   \n",
       "\n",
       "                                                title      techniques  \\\n",
       "0                                         Slagbillede     Olie på træ   \n",
       "14  En potuaner, hvis reformforslag er billiget, b...  Olie på lærred   \n",
       "\n",
       "   publication_year  image_width  image_height  \\\n",
       "0                         4833.0        3407.0   \n",
       "14             1999       3131.0        3738.0   \n",
       "\n",
       "                                      image_thumbnail  \\\n",
       "0   https://iip-thumb.smk.dk/iiif/jp2/1r66j221x_KM...   \n",
       "14  https://iip-thumb.smk.dk/iiif/jp2/kk91fp68v_KM...   \n",
       "\n",
       "                                               colors suggested_bg_color  \\\n",
       "0   ['#dddddd', '#444444', '#555555', '#333333', '...            #888888   \n",
       "14  ['#222222', '#3a351f', '#908d41', '#382510', '...            #908d41   \n",
       "\n",
       "                                        object_labels  \n",
       "0   [window, lake, flag, horse, donkey, sky, devil...  \n",
       "14               [window, spear, spear, sword, demon]  "
      ]
     },
     "execution_count": 39,
     "metadata": {},
     "output_type": "execute_result"
    }
   ],
   "source": [
    "df_paintings_final.head(2)"
   ]
  },
  {
   "cell_type": "markdown",
   "id": "6a9d7823",
   "metadata": {},
   "source": [
    "## <font color=green>6 Exporting the dataframes as json</font>"
   ]
  },
  {
   "cell_type": "code",
   "execution_count": 40,
   "id": "bc8fb4a9",
   "metadata": {},
   "outputs": [],
   "source": [
    "## Exporting jsons\n",
    "df_paintings_final.to_json('painting_class.json', orient=\"table\", index=False)\n",
    "df_categories.to_json('category_class.json', orient=\"table\", index=False)"
   ]
  },
  {
   "cell_type": "code",
   "execution_count": 41,
   "id": "dc7cb0e8",
   "metadata": {},
   "outputs": [],
   "source": [
    "## Exporting csvs\n",
    "df_objects_final.to_csv('object_class.csv', index=False)"
   ]
  }
 ],
 "metadata": {
  "kernelspec": {
   "display_name": "Python 3 (ipykernel)",
   "language": "python",
   "name": "python3"
  },
  "language_info": {
   "codemirror_mode": {
    "name": "ipython",
    "version": 3
   },
   "file_extension": ".py",
   "mimetype": "text/x-python",
   "name": "python",
   "nbconvert_exporter": "python",
   "pygments_lexer": "ipython3",
   "version": "3.9.16"
  }
 },
 "nbformat": 4,
 "nbformat_minor": 5
}
