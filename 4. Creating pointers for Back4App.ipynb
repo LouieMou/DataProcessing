{
 "cells": [
  {
   "cell_type": "markdown",
   "id": "2444daab",
   "metadata": {},
   "source": [
    "## <font color=green>0. Imports</font>"
   ]
  },
  {
   "cell_type": "code",
   "execution_count": 1,
   "id": "6191e74f",
   "metadata": {},
   "outputs": [],
   "source": [
    "import pandas as pd\n",
    "from ast import literal_eval"
   ]
  },
  {
   "cell_type": "code",
   "execution_count": 2,
   "id": "9fe9101b",
   "metadata": {},
   "outputs": [],
   "source": [
    "## Importing the object class\n",
    "df_object_class = pd.read_csv(\"object_class.csv\")\n",
    "## Importing the category class and back4app csv\n",
    "df_painting_back4app = pd.read_csv(\"painting_back4app.csv\")\n",
    "## Importing the painting class and back4app csv\n",
    "df_category_back4app = pd.read_csv(\"category_back4app.csv\")"
   ]
  },
  {
   "cell_type": "markdown",
   "id": "1ae2f9e5",
   "metadata": {},
   "source": [
    "### <font color=##5A5A5A>5.2 Mapping Painting Pointer onto the Object Class</font>"
   ]
  },
  {
   "cell_type": "code",
   "execution_count": 3,
   "id": "5fa57b98",
   "metadata": {},
   "outputs": [],
   "source": [
    "## Ensuring that the coords array is in fact an array\n",
    "df_object_class['coords'] = df_object_class['coords'].apply(literal_eval)"
   ]
  },
  {
   "cell_type": "code",
   "execution_count": 4,
   "id": "b4ffb05c",
   "metadata": {},
   "outputs": [
    {
     "data": {
      "text/html": [
       "<div>\n",
       "<style scoped>\n",
       "    .dataframe tbody tr th:only-of-type {\n",
       "        vertical-align: middle;\n",
       "    }\n",
       "\n",
       "    .dataframe tbody tr th {\n",
       "        vertical-align: top;\n",
       "    }\n",
       "\n",
       "    .dataframe thead th {\n",
       "        text-align: right;\n",
       "    }\n",
       "</style>\n",
       "<table border=\"1\" class=\"dataframe\">\n",
       "  <thead>\n",
       "    <tr style=\"text-align: right;\">\n",
       "      <th></th>\n",
       "      <th>objectId</th>\n",
       "      <th>updatedAt</th>\n",
       "      <th>createdAt</th>\n",
       "      <th>ACL</th>\n",
       "      <th>image_width</th>\n",
       "      <th>techniques</th>\n",
       "      <th>suggested_bg_color</th>\n",
       "      <th>artist</th>\n",
       "      <th>image_thumbnail</th>\n",
       "      <th>image_height</th>\n",
       "      <th>colors</th>\n",
       "      <th>publication_year</th>\n",
       "      <th>painting_id</th>\n",
       "      <th>title</th>\n",
       "      <th>object_labels</th>\n",
       "    </tr>\n",
       "  </thead>\n",
       "  <tbody>\n",
       "    <tr>\n",
       "      <th>0</th>\n",
       "      <td>nl7LbVa9Zt</td>\n",
       "      <td>Fri Apr 28 2023 13:11:21 GMT+0200 (Central Eur...</td>\n",
       "      <td>Fri Apr 28 2023 13:11:21 GMT+0200 (Central Eur...</td>\n",
       "      <td>NaN</td>\n",
       "      <td>4833</td>\n",
       "      <td>Olie på træ</td>\n",
       "      <td>#888888</td>\n",
       "      <td>Jacob Weyer</td>\n",
       "      <td>https://iip-thumb.smk.dk/iiif/jp2/1r66j221x_KM...</td>\n",
       "      <td>3407</td>\n",
       "      <td>['#dddddd', '#444444', '#555555', '#333333', '...</td>\n",
       "      <td>NaN</td>\n",
       "      <td>KMS638</td>\n",
       "      <td>Slagbillede</td>\n",
       "      <td>[\"window\",\"lake\",\"flag\",\"horse\",\"donkey\",\"sky\"...</td>\n",
       "    </tr>\n",
       "    <tr>\n",
       "      <th>1</th>\n",
       "      <td>ZzHAPkDjqS</td>\n",
       "      <td>Fri Apr 28 2023 13:11:21 GMT+0200 (Central Eur...</td>\n",
       "      <td>Fri Apr 28 2023 13:11:21 GMT+0200 (Central Eur...</td>\n",
       "      <td>NaN</td>\n",
       "      <td>3131</td>\n",
       "      <td>Olie på lærred</td>\n",
       "      <td>#908d41</td>\n",
       "      <td>Nicolai Abildgaard</td>\n",
       "      <td>https://iip-thumb.smk.dk/iiif/jp2/kk91fp68v_KM...</td>\n",
       "      <td>3738</td>\n",
       "      <td>['#222222', '#3a351f', '#908d41', '#382510', '...</td>\n",
       "      <td>1999</td>\n",
       "      <td>KMS595</td>\n",
       "      <td>En potuaner, hvis reformforslag er billiget, b...</td>\n",
       "      <td>[\"window\",\"spear\",\"spear\",\"sword\",\"demon\"]</td>\n",
       "    </tr>\n",
       "  </tbody>\n",
       "</table>\n",
       "</div>"
      ],
      "text/plain": [
       "     objectId                                          updatedAt  \\\n",
       "0  nl7LbVa9Zt  Fri Apr 28 2023 13:11:21 GMT+0200 (Central Eur...   \n",
       "1  ZzHAPkDjqS  Fri Apr 28 2023 13:11:21 GMT+0200 (Central Eur...   \n",
       "\n",
       "                                           createdAt  ACL  image_width  \\\n",
       "0  Fri Apr 28 2023 13:11:21 GMT+0200 (Central Eur...  NaN         4833   \n",
       "1  Fri Apr 28 2023 13:11:21 GMT+0200 (Central Eur...  NaN         3131   \n",
       "\n",
       "       techniques suggested_bg_color              artist  \\\n",
       "0     Olie på træ            #888888         Jacob Weyer   \n",
       "1  Olie på lærred            #908d41  Nicolai Abildgaard   \n",
       "\n",
       "                                     image_thumbnail  image_height  \\\n",
       "0  https://iip-thumb.smk.dk/iiif/jp2/1r66j221x_KM...          3407   \n",
       "1  https://iip-thumb.smk.dk/iiif/jp2/kk91fp68v_KM...          3738   \n",
       "\n",
       "                                              colors publication_year  \\\n",
       "0  ['#dddddd', '#444444', '#555555', '#333333', '...              NaN   \n",
       "1  ['#222222', '#3a351f', '#908d41', '#382510', '...             1999   \n",
       "\n",
       "  painting_id                                              title  \\\n",
       "0      KMS638                                        Slagbillede   \n",
       "1      KMS595  En potuaner, hvis reformforslag er billiget, b...   \n",
       "\n",
       "                                       object_labels  \n",
       "0  [\"window\",\"lake\",\"flag\",\"horse\",\"donkey\",\"sky\"...  \n",
       "1         [\"window\",\"spear\",\"spear\",\"sword\",\"demon\"]  "
      ]
     },
     "execution_count": 4,
     "metadata": {},
     "output_type": "execute_result"
    }
   ],
   "source": [
    "df_painting_back4app.head(2)"
   ]
  },
  {
   "cell_type": "code",
   "execution_count": 5,
   "id": "916d612f",
   "metadata": {},
   "outputs": [],
   "source": [
    "painting_id_dict = dict(zip(df_painting_back4app['painting_id'], df_painting_back4app['objectId']))"
   ]
  },
  {
   "cell_type": "code",
   "execution_count": 6,
   "id": "44929af7",
   "metadata": {},
   "outputs": [],
   "source": [
    "df_objects_back4app = df_object_class.copy()"
   ]
  },
  {
   "cell_type": "code",
   "execution_count": 7,
   "id": "c30b75b8",
   "metadata": {},
   "outputs": [],
   "source": [
    "# map object labels to categories\n",
    "df_objects_back4app['painting_id_back4app'] = df_objects_back4app['painting_id'].map(painting_id_dict)"
   ]
  },
  {
   "cell_type": "code",
   "execution_count": 8,
   "id": "b32c50db",
   "metadata": {},
   "outputs": [],
   "source": [
    "# create a function that modifies the last value of a dictionary based on the function argument x\n",
    "def modify_dict_last_value(sample_dict, x):\n",
    "    keys = list(sample_dict.keys())\n",
    "    values = list(sample_dict.values())\n",
    "    values[-1] = x\n",
    "    modified_dict = dict(zip(keys, values))\n",
    "    return modified_dict"
   ]
  },
  {
   "cell_type": "code",
   "execution_count": 9,
   "id": "51dbd181",
   "metadata": {},
   "outputs": [],
   "source": [
    "pointer_object = {'__type': 'Pointer', 'className': 'Painting', 'objectId': 'abc123'}\n",
    "df_objects_back4app['painting_pointer'] = df_objects_back4app['painting_id_back4app'].apply(lambda x: modify_dict_last_value(pointer_object, x))"
   ]
  },
  {
   "cell_type": "markdown",
   "id": "639986cb",
   "metadata": {},
   "source": [
    "### <font color=##5A5A5A>5.3 Mapping Category Pointers onto the Object Class</font>"
   ]
  },
  {
   "cell_type": "code",
   "execution_count": 10,
   "id": "2d79c25f",
   "metadata": {},
   "outputs": [],
   "source": [
    "category_id_dict = dict(zip(df_category_back4app['category_name'], df_category_back4app['objectId']))"
   ]
  },
  {
   "cell_type": "code",
   "execution_count": 11,
   "id": "da0f6495",
   "metadata": {},
   "outputs": [],
   "source": [
    "# map object labels to categories\n",
    "df_objects_back4app['category_id'] = df_objects_back4app['category_name'].map(category_id_dict)"
   ]
  },
  {
   "cell_type": "code",
   "execution_count": 12,
   "id": "a3ad6a7e",
   "metadata": {},
   "outputs": [],
   "source": [
    "category_point = {'__type': 'Pointer', 'className': 'Category', 'objectId': 'abc123'}\n",
    "df_objects_back4app['category_pointer'] = df_objects_back4app['category_id'].apply(lambda x: modify_dict_last_value(category_point, x))"
   ]
  },
  {
   "cell_type": "markdown",
   "id": "edd1626e",
   "metadata": {},
   "source": [
    "### <font color=##5A5A5A>5.4 Resetting indexes of dataframes</font>"
   ]
  },
  {
   "cell_type": "code",
   "execution_count": 13,
   "id": "4d6c79bc",
   "metadata": {},
   "outputs": [],
   "source": [
    "df_objects_back4app = df_objects_back4app.reset_index(drop= True)"
   ]
  },
  {
   "cell_type": "code",
   "execution_count": 14,
   "id": "10a8f7b4",
   "metadata": {},
   "outputs": [
    {
     "data": {
      "text/plain": [
       "Series([], Name: painting_pointer, dtype: object)"
      ]
     },
     "execution_count": 14,
     "metadata": {},
     "output_type": "execute_result"
    }
   ],
   "source": [
    "## checking painting pointer for random object\n",
    "pd.options.display.max_colwidth = 100\n",
    "df_objects_back4app.query('object_id == \"d29403c7d5aa4e53a682d2086d361beb\"')['painting_pointer']"
   ]
  },
  {
   "cell_type": "code",
   "execution_count": 15,
   "id": "81716d86",
   "metadata": {},
   "outputs": [
    {
     "data": {
      "text/plain": [
       "Series([], Name: category_pointer, dtype: object)"
      ]
     },
     "execution_count": 15,
     "metadata": {},
     "output_type": "execute_result"
    }
   ],
   "source": [
    "## checking category pointer for random object\n",
    "pd.options.display.max_colwidth = 100\n",
    "df_objects_back4app.query('object_id == \"d29403c7d5aa4e53a682d2086d361beb\"')['category_pointer']"
   ]
  },
  {
   "cell_type": "code",
   "execution_count": 16,
   "id": "f36b1f20",
   "metadata": {},
   "outputs": [],
   "source": [
    "df_objects_final = df_objects_back4app.copy()"
   ]
  },
  {
   "cell_type": "code",
   "execution_count": 17,
   "id": "599ea6da",
   "metadata": {},
   "outputs": [],
   "source": [
    "df_objects_final = df_objects_final.filter(['label_text', 'coords', 'image_thumbnail','category_name', 'painting_id_back4app', 'painting_pointer', 'category_id', 'category_pointer'], axis=1)"
   ]
  },
  {
   "cell_type": "code",
   "execution_count": 18,
   "id": "a20b8ca8",
   "metadata": {},
   "outputs": [],
   "source": [
    "df_objects_final.to_json('object_class.json', orient=\"table\")"
   ]
  },
  {
   "cell_type": "code",
   "execution_count": 19,
   "id": "c2219ed9",
   "metadata": {},
   "outputs": [
    {
     "data": {
      "text/plain": [
       "(10142, 8)"
      ]
     },
     "execution_count": 19,
     "metadata": {},
     "output_type": "execute_result"
    }
   ],
   "source": [
    "df_objects_final.shape"
   ]
  }
 ],
 "metadata": {
  "kernelspec": {
   "display_name": "Python 3 (ipykernel)",
   "language": "python",
   "name": "python3"
  },
  "language_info": {
   "codemirror_mode": {
    "name": "ipython",
    "version": 3
   },
   "file_extension": ".py",
   "mimetype": "text/x-python",
   "name": "python",
   "nbconvert_exporter": "python",
   "pygments_lexer": "ipython3",
   "version": "3.9.16"
  }
 },
 "nbformat": 4,
 "nbformat_minor": 5
}
